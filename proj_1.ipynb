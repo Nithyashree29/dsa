# Goal  """
"""We need to create a Polygon class with the following properties
1. Number of vertices n - passed to the initializer
2. circumradius R - passed to the initializer
3. number of edges
4. number of sides
5. interior angle (in degrees)
6. apothem
7. surface area
8. perimeter
9. supports equality based on number of vertices and circumradius
10. supports > based on number of vertices
"""

import math
class Polygob:
    def __init__(self, n, R):
        self._n = n
        self._R = R
        
    def __repr__(self):
        return f'Polygon(n={self._n}, R={self._R})'
    
    